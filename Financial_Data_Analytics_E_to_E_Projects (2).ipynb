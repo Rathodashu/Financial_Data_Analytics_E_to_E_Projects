{
 "cells": [
  {
   "cell_type": "markdown",
   "id": "2cad666f",
   "metadata": {},
   "source": [
    "## Importing Libraries"
   ]
  },
  {
   "cell_type": "code",
   "execution_count": 1,
   "id": "0ad36933",
   "metadata": {},
   "outputs": [],
   "source": [
    "import pandas as pd\n",
    "import numpy as np\n",
    "import matplotlib.pyplot as plt\n",
    "import seaborn as sns\n",
    "import os"
   ]
  },
  {
   "cell_type": "markdown",
   "id": "b7b534ab",
   "metadata": {},
   "source": [
    "## Datasets import from csv file(Collection)"
   ]
  },
  {
   "cell_type": "code",
   "execution_count": 2,
   "id": "7ae4c907",
   "metadata": {},
   "outputs": [],
   "source": [
    "df = pd.read_csv(r\"C:\\Users\\Hp\\Downloads\\financial_analytics_data.csv\")"
   ]
  },
  {
   "cell_type": "code",
   "execution_count": 3,
   "id": "0e7dbcdb",
   "metadata": {},
   "outputs": [
    {
     "data": {
      "text/html": [
       "<div>\n",
       "<style scoped>\n",
       "    .dataframe tbody tr th:only-of-type {\n",
       "        vertical-align: middle;\n",
       "    }\n",
       "\n",
       "    .dataframe tbody tr th {\n",
       "        vertical-align: top;\n",
       "    }\n",
       "\n",
       "    .dataframe thead th {\n",
       "        text-align: right;\n",
       "    }\n",
       "</style>\n",
       "<table border=\"1\" class=\"dataframe\">\n",
       "  <thead>\n",
       "    <tr style=\"text-align: right;\">\n",
       "      <th></th>\n",
       "      <th>S.No.</th>\n",
       "      <th>Name</th>\n",
       "      <th>Mar Cap - Crore</th>\n",
       "      <th>Sales Qtr - Crore</th>\n",
       "      <th>Unnamed: 4</th>\n",
       "    </tr>\n",
       "  </thead>\n",
       "  <tbody>\n",
       "    <tr>\n",
       "      <th>0</th>\n",
       "      <td>1</td>\n",
       "      <td>Reliance Inds.</td>\n",
       "      <td>583436.72</td>\n",
       "      <td>99810.00</td>\n",
       "      <td>NaN</td>\n",
       "    </tr>\n",
       "    <tr>\n",
       "      <th>1</th>\n",
       "      <td>2</td>\n",
       "      <td>TCS</td>\n",
       "      <td>563709.84</td>\n",
       "      <td>30904.00</td>\n",
       "      <td>NaN</td>\n",
       "    </tr>\n",
       "    <tr>\n",
       "      <th>2</th>\n",
       "      <td>3</td>\n",
       "      <td>HDFC Bank</td>\n",
       "      <td>482953.59</td>\n",
       "      <td>20581.27</td>\n",
       "      <td>NaN</td>\n",
       "    </tr>\n",
       "    <tr>\n",
       "      <th>3</th>\n",
       "      <td>4</td>\n",
       "      <td>ITC</td>\n",
       "      <td>320985.27</td>\n",
       "      <td>9772.02</td>\n",
       "      <td>NaN</td>\n",
       "    </tr>\n",
       "    <tr>\n",
       "      <th>4</th>\n",
       "      <td>5</td>\n",
       "      <td>H D F C</td>\n",
       "      <td>289497.37</td>\n",
       "      <td>16840.51</td>\n",
       "      <td>NaN</td>\n",
       "    </tr>\n",
       "    <tr>\n",
       "      <th>...</th>\n",
       "      <td>...</td>\n",
       "      <td>...</td>\n",
       "      <td>...</td>\n",
       "      <td>...</td>\n",
       "      <td>...</td>\n",
       "    </tr>\n",
       "    <tr>\n",
       "      <th>483</th>\n",
       "      <td>496</td>\n",
       "      <td>Lak. Vilas Bank</td>\n",
       "      <td>3029.57</td>\n",
       "      <td>790.17</td>\n",
       "      <td>NaN</td>\n",
       "    </tr>\n",
       "    <tr>\n",
       "      <th>484</th>\n",
       "      <td>497</td>\n",
       "      <td>NOCIL</td>\n",
       "      <td>3026.26</td>\n",
       "      <td>249.27</td>\n",
       "      <td>NaN</td>\n",
       "    </tr>\n",
       "    <tr>\n",
       "      <th>485</th>\n",
       "      <td>498</td>\n",
       "      <td>Orient Cement</td>\n",
       "      <td>3024.32</td>\n",
       "      <td>511.53</td>\n",
       "      <td>NaN</td>\n",
       "    </tr>\n",
       "    <tr>\n",
       "      <th>486</th>\n",
       "      <td>499</td>\n",
       "      <td>Natl.Fertilizer</td>\n",
       "      <td>3017.07</td>\n",
       "      <td>2840.75</td>\n",
       "      <td>NaN</td>\n",
       "    </tr>\n",
       "    <tr>\n",
       "      <th>487</th>\n",
       "      <td>500</td>\n",
       "      <td>L T Foods</td>\n",
       "      <td>NaN</td>\n",
       "      <td>NaN</td>\n",
       "      <td>NaN</td>\n",
       "    </tr>\n",
       "  </tbody>\n",
       "</table>\n",
       "<p>488 rows × 5 columns</p>\n",
       "</div>"
      ],
      "text/plain": [
       "     S.No.             Name  Mar Cap - Crore  Sales Qtr - Crore  Unnamed: 4\n",
       "0        1   Reliance Inds.        583436.72           99810.00         NaN\n",
       "1        2              TCS        563709.84           30904.00         NaN\n",
       "2        3        HDFC Bank        482953.59           20581.27         NaN\n",
       "3        4              ITC        320985.27            9772.02         NaN\n",
       "4        5          H D F C        289497.37           16840.51         NaN\n",
       "..     ...              ...              ...                ...         ...\n",
       "483    496  Lak. Vilas Bank          3029.57             790.17         NaN\n",
       "484    497            NOCIL          3026.26             249.27         NaN\n",
       "485    498    Orient Cement          3024.32             511.53         NaN\n",
       "486    499  Natl.Fertilizer          3017.07            2840.75         NaN\n",
       "487    500        L T Foods              NaN                NaN         NaN\n",
       "\n",
       "[488 rows x 5 columns]"
      ]
     },
     "execution_count": 3,
     "metadata": {},
     "output_type": "execute_result"
    }
   ],
   "source": [
    "df"
   ]
  },
  {
   "cell_type": "markdown",
   "id": "97c0d6b2",
   "metadata": {},
   "source": [
    "### 1) Problem Statement (Objective) : - \n",
    "\n",
    "##### 1) Without analyzing the competition, it is difficult for a business to survive. You are\n",
    "##### 2) tasked to analyse the competition for the management to provide better results. This\n",
    "##### 3) data set has information on the market capitalization of the top 500 companies in India.\n",
    "##### 4) Serial NumberNameName of CompanyMar Cap – CroreMarket Capitalization in\n",
    "##### 5) CroresSales Qtr – CroreQuarterly Sale in crores. Find key metrics and factors and\n",
    "##### 6) show the meaningful relationships between attributes.\n",
    "##### 7) Do your own research and come up with your findings"
   ]
  },
  {
   "cell_type": "markdown",
   "id": "7ae5b76d",
   "metadata": {},
   "source": [
    "## 2) Understanding the data :- "
   ]
  },
  {
   "cell_type": "code",
   "execution_count": 4,
   "id": "6c995587",
   "metadata": {},
   "outputs": [
    {
     "data": {
      "text/html": [
       "<div>\n",
       "<style scoped>\n",
       "    .dataframe tbody tr th:only-of-type {\n",
       "        vertical-align: middle;\n",
       "    }\n",
       "\n",
       "    .dataframe tbody tr th {\n",
       "        vertical-align: top;\n",
       "    }\n",
       "\n",
       "    .dataframe thead th {\n",
       "        text-align: right;\n",
       "    }\n",
       "</style>\n",
       "<table border=\"1\" class=\"dataframe\">\n",
       "  <thead>\n",
       "    <tr style=\"text-align: right;\">\n",
       "      <th></th>\n",
       "      <th>S.No.</th>\n",
       "      <th>Name</th>\n",
       "      <th>Mar Cap - Crore</th>\n",
       "      <th>Sales Qtr - Crore</th>\n",
       "      <th>Unnamed: 4</th>\n",
       "    </tr>\n",
       "  </thead>\n",
       "  <tbody>\n",
       "    <tr>\n",
       "      <th>0</th>\n",
       "      <td>1</td>\n",
       "      <td>Reliance Inds.</td>\n",
       "      <td>583436.72</td>\n",
       "      <td>99810.00</td>\n",
       "      <td>NaN</td>\n",
       "    </tr>\n",
       "    <tr>\n",
       "      <th>1</th>\n",
       "      <td>2</td>\n",
       "      <td>TCS</td>\n",
       "      <td>563709.84</td>\n",
       "      <td>30904.00</td>\n",
       "      <td>NaN</td>\n",
       "    </tr>\n",
       "    <tr>\n",
       "      <th>2</th>\n",
       "      <td>3</td>\n",
       "      <td>HDFC Bank</td>\n",
       "      <td>482953.59</td>\n",
       "      <td>20581.27</td>\n",
       "      <td>NaN</td>\n",
       "    </tr>\n",
       "    <tr>\n",
       "      <th>3</th>\n",
       "      <td>4</td>\n",
       "      <td>ITC</td>\n",
       "      <td>320985.27</td>\n",
       "      <td>9772.02</td>\n",
       "      <td>NaN</td>\n",
       "    </tr>\n",
       "    <tr>\n",
       "      <th>4</th>\n",
       "      <td>5</td>\n",
       "      <td>H D F C</td>\n",
       "      <td>289497.37</td>\n",
       "      <td>16840.51</td>\n",
       "      <td>NaN</td>\n",
       "    </tr>\n",
       "  </tbody>\n",
       "</table>\n",
       "</div>"
      ],
      "text/plain": [
       "   S.No.            Name  Mar Cap - Crore  Sales Qtr - Crore  Unnamed: 4\n",
       "0      1  Reliance Inds.        583436.72           99810.00         NaN\n",
       "1      2             TCS        563709.84           30904.00         NaN\n",
       "2      3       HDFC Bank        482953.59           20581.27         NaN\n",
       "3      4             ITC        320985.27            9772.02         NaN\n",
       "4      5         H D F C        289497.37           16840.51         NaN"
      ]
     },
     "execution_count": 4,
     "metadata": {},
     "output_type": "execute_result"
    }
   ],
   "source": [
    "# Top 5 data show\n",
    "\n",
    "df.head()"
   ]
  },
  {
   "cell_type": "code",
   "execution_count": 5,
   "id": "9a4dd840",
   "metadata": {},
   "outputs": [
    {
     "data": {
      "text/html": [
       "<div>\n",
       "<style scoped>\n",
       "    .dataframe tbody tr th:only-of-type {\n",
       "        vertical-align: middle;\n",
       "    }\n",
       "\n",
       "    .dataframe tbody tr th {\n",
       "        vertical-align: top;\n",
       "    }\n",
       "\n",
       "    .dataframe thead th {\n",
       "        text-align: right;\n",
       "    }\n",
       "</style>\n",
       "<table border=\"1\" class=\"dataframe\">\n",
       "  <thead>\n",
       "    <tr style=\"text-align: right;\">\n",
       "      <th></th>\n",
       "      <th>S.No.</th>\n",
       "      <th>Name</th>\n",
       "      <th>Mar Cap - Crore</th>\n",
       "      <th>Sales Qtr - Crore</th>\n",
       "      <th>Unnamed: 4</th>\n",
       "    </tr>\n",
       "  </thead>\n",
       "  <tbody>\n",
       "    <tr>\n",
       "      <th>483</th>\n",
       "      <td>496</td>\n",
       "      <td>Lak. Vilas Bank</td>\n",
       "      <td>3029.57</td>\n",
       "      <td>790.17</td>\n",
       "      <td>NaN</td>\n",
       "    </tr>\n",
       "    <tr>\n",
       "      <th>484</th>\n",
       "      <td>497</td>\n",
       "      <td>NOCIL</td>\n",
       "      <td>3026.26</td>\n",
       "      <td>249.27</td>\n",
       "      <td>NaN</td>\n",
       "    </tr>\n",
       "    <tr>\n",
       "      <th>485</th>\n",
       "      <td>498</td>\n",
       "      <td>Orient Cement</td>\n",
       "      <td>3024.32</td>\n",
       "      <td>511.53</td>\n",
       "      <td>NaN</td>\n",
       "    </tr>\n",
       "    <tr>\n",
       "      <th>486</th>\n",
       "      <td>499</td>\n",
       "      <td>Natl.Fertilizer</td>\n",
       "      <td>3017.07</td>\n",
       "      <td>2840.75</td>\n",
       "      <td>NaN</td>\n",
       "    </tr>\n",
       "    <tr>\n",
       "      <th>487</th>\n",
       "      <td>500</td>\n",
       "      <td>L T Foods</td>\n",
       "      <td>NaN</td>\n",
       "      <td>NaN</td>\n",
       "      <td>NaN</td>\n",
       "    </tr>\n",
       "  </tbody>\n",
       "</table>\n",
       "</div>"
      ],
      "text/plain": [
       "     S.No.             Name  Mar Cap - Crore  Sales Qtr - Crore  Unnamed: 4\n",
       "483    496  Lak. Vilas Bank          3029.57             790.17         NaN\n",
       "484    497            NOCIL          3026.26             249.27         NaN\n",
       "485    498    Orient Cement          3024.32             511.53         NaN\n",
       "486    499  Natl.Fertilizer          3017.07            2840.75         NaN\n",
       "487    500        L T Foods              NaN                NaN         NaN"
      ]
     },
     "execution_count": 5,
     "metadata": {},
     "output_type": "execute_result"
    }
   ],
   "source": [
    "# Bottom 5 data show\n",
    "\n",
    "df.tail()"
   ]
  },
  {
   "cell_type": "code",
   "execution_count": 6,
   "id": "b9526f68",
   "metadata": {},
   "outputs": [
    {
     "name": "stdout",
     "output_type": "stream",
     "text": [
      "Number of Rows :-  488\n",
      "Number of Columns : -  5\n"
     ]
    }
   ],
   "source": [
    "# How many Row's and Calumn in this data show\n",
    "\n",
    "print('Number of Rows :- ', df.shape[0])\n",
    "\n",
    "print('Number of Columns : - ', df.shape[1])"
   ]
  },
  {
   "cell_type": "code",
   "execution_count": 7,
   "id": "7779ad2d",
   "metadata": {},
   "outputs": [
    {
     "name": "stdout",
     "output_type": "stream",
     "text": [
      "<class 'pandas.core.frame.DataFrame'>\n",
      "RangeIndex: 488 entries, 0 to 487\n",
      "Data columns (total 5 columns):\n",
      " #   Column             Non-Null Count  Dtype  \n",
      "---  ------             --------------  -----  \n",
      " 0   S.No.              488 non-null    int64  \n",
      " 1   Name               488 non-null    object \n",
      " 2   Mar Cap - Crore    479 non-null    float64\n",
      " 3   Sales Qtr - Crore  365 non-null    float64\n",
      " 4   Unnamed: 4         94 non-null     float64\n",
      "dtypes: float64(3), int64(1), object(1)\n",
      "memory usage: 19.2+ KB\n"
     ]
    }
   ],
   "source": [
    "# Data information\n",
    "\n",
    "df.info()"
   ]
  },
  {
   "cell_type": "code",
   "execution_count": 8,
   "id": "d1ddfbe7",
   "metadata": {},
   "outputs": [
    {
     "data": {
      "text/html": [
       "<div>\n",
       "<style scoped>\n",
       "    .dataframe tbody tr th:only-of-type {\n",
       "        vertical-align: middle;\n",
       "    }\n",
       "\n",
       "    .dataframe tbody tr th {\n",
       "        vertical-align: top;\n",
       "    }\n",
       "\n",
       "    .dataframe thead th {\n",
       "        text-align: right;\n",
       "    }\n",
       "</style>\n",
       "<table border=\"1\" class=\"dataframe\">\n",
       "  <thead>\n",
       "    <tr style=\"text-align: right;\">\n",
       "      <th></th>\n",
       "      <th>count</th>\n",
       "      <th>mean</th>\n",
       "      <th>std</th>\n",
       "      <th>min</th>\n",
       "      <th>25%</th>\n",
       "      <th>50%</th>\n",
       "      <th>75%</th>\n",
       "      <th>max</th>\n",
       "    </tr>\n",
       "  </thead>\n",
       "  <tbody>\n",
       "    <tr>\n",
       "      <th>S.No.</th>\n",
       "      <td>488.0</td>\n",
       "      <td>251.51</td>\n",
       "      <td>145.88</td>\n",
       "      <td>1.00</td>\n",
       "      <td>122.75</td>\n",
       "      <td>252.50</td>\n",
       "      <td>378.25</td>\n",
       "      <td>500.00</td>\n",
       "    </tr>\n",
       "    <tr>\n",
       "      <th>Mar Cap - Crore</th>\n",
       "      <td>479.0</td>\n",
       "      <td>28043.86</td>\n",
       "      <td>59464.62</td>\n",
       "      <td>3017.07</td>\n",
       "      <td>4843.58</td>\n",
       "      <td>9885.05</td>\n",
       "      <td>23549.90</td>\n",
       "      <td>583436.72</td>\n",
       "    </tr>\n",
       "    <tr>\n",
       "      <th>Sales Qtr - Crore</th>\n",
       "      <td>365.0</td>\n",
       "      <td>4395.98</td>\n",
       "      <td>11092.21</td>\n",
       "      <td>47.24</td>\n",
       "      <td>593.74</td>\n",
       "      <td>1278.30</td>\n",
       "      <td>2840.75</td>\n",
       "      <td>110666.93</td>\n",
       "    </tr>\n",
       "    <tr>\n",
       "      <th>Unnamed: 4</th>\n",
       "      <td>94.0</td>\n",
       "      <td>1523.87</td>\n",
       "      <td>1800.01</td>\n",
       "      <td>0.00</td>\n",
       "      <td>407.17</td>\n",
       "      <td>702.32</td>\n",
       "      <td>2234.82</td>\n",
       "      <td>7757.06</td>\n",
       "    </tr>\n",
       "  </tbody>\n",
       "</table>\n",
       "</div>"
      ],
      "text/plain": [
       "                   count      mean       std      min      25%      50%  \\\n",
       "S.No.              488.0    251.51    145.88     1.00   122.75   252.50   \n",
       "Mar Cap - Crore    479.0  28043.86  59464.62  3017.07  4843.58  9885.05   \n",
       "Sales Qtr - Crore  365.0   4395.98  11092.21    47.24   593.74  1278.30   \n",
       "Unnamed: 4          94.0   1523.87   1800.01     0.00   407.17   702.32   \n",
       "\n",
       "                        75%        max  \n",
       "S.No.                378.25     500.00  \n",
       "Mar Cap - Crore    23549.90  583436.72  \n",
       "Sales Qtr - Crore   2840.75  110666.93  \n",
       "Unnamed: 4          2234.82    7757.06  "
      ]
     },
     "execution_count": 8,
     "metadata": {},
     "output_type": "execute_result"
    }
   ],
   "source": [
    "# All Numerical data show in percentile \n",
    "\n",
    "round(df.describe(),2).T"
   ]
  },
  {
   "cell_type": "markdown",
   "id": "1d7839bf",
   "metadata": {},
   "source": [
    "## 2) Data Cleaning and Preprocessing : - "
   ]
  },
  {
   "cell_type": "code",
   "execution_count": 9,
   "id": "e2702c01",
   "metadata": {},
   "outputs": [
    {
     "data": {
      "text/html": [
       "<div>\n",
       "<style scoped>\n",
       "    .dataframe tbody tr th:only-of-type {\n",
       "        vertical-align: middle;\n",
       "    }\n",
       "\n",
       "    .dataframe tbody tr th {\n",
       "        vertical-align: top;\n",
       "    }\n",
       "\n",
       "    .dataframe thead th {\n",
       "        text-align: right;\n",
       "    }\n",
       "</style>\n",
       "<table border=\"1\" class=\"dataframe\">\n",
       "  <thead>\n",
       "    <tr style=\"text-align: right;\">\n",
       "      <th></th>\n",
       "      <th>S.No.</th>\n",
       "      <th>Name</th>\n",
       "      <th>Mar Cap - Crore</th>\n",
       "      <th>Sales Qtr - Crore</th>\n",
       "      <th>Unnamed: 4</th>\n",
       "    </tr>\n",
       "  </thead>\n",
       "  <tbody>\n",
       "    <tr>\n",
       "      <th>0</th>\n",
       "      <td>False</td>\n",
       "      <td>False</td>\n",
       "      <td>False</td>\n",
       "      <td>False</td>\n",
       "      <td>True</td>\n",
       "    </tr>\n",
       "    <tr>\n",
       "      <th>1</th>\n",
       "      <td>False</td>\n",
       "      <td>False</td>\n",
       "      <td>False</td>\n",
       "      <td>False</td>\n",
       "      <td>True</td>\n",
       "    </tr>\n",
       "    <tr>\n",
       "      <th>2</th>\n",
       "      <td>False</td>\n",
       "      <td>False</td>\n",
       "      <td>False</td>\n",
       "      <td>False</td>\n",
       "      <td>True</td>\n",
       "    </tr>\n",
       "    <tr>\n",
       "      <th>3</th>\n",
       "      <td>False</td>\n",
       "      <td>False</td>\n",
       "      <td>False</td>\n",
       "      <td>False</td>\n",
       "      <td>True</td>\n",
       "    </tr>\n",
       "    <tr>\n",
       "      <th>4</th>\n",
       "      <td>False</td>\n",
       "      <td>False</td>\n",
       "      <td>False</td>\n",
       "      <td>False</td>\n",
       "      <td>True</td>\n",
       "    </tr>\n",
       "    <tr>\n",
       "      <th>...</th>\n",
       "      <td>...</td>\n",
       "      <td>...</td>\n",
       "      <td>...</td>\n",
       "      <td>...</td>\n",
       "      <td>...</td>\n",
       "    </tr>\n",
       "    <tr>\n",
       "      <th>483</th>\n",
       "      <td>False</td>\n",
       "      <td>False</td>\n",
       "      <td>False</td>\n",
       "      <td>False</td>\n",
       "      <td>True</td>\n",
       "    </tr>\n",
       "    <tr>\n",
       "      <th>484</th>\n",
       "      <td>False</td>\n",
       "      <td>False</td>\n",
       "      <td>False</td>\n",
       "      <td>False</td>\n",
       "      <td>True</td>\n",
       "    </tr>\n",
       "    <tr>\n",
       "      <th>485</th>\n",
       "      <td>False</td>\n",
       "      <td>False</td>\n",
       "      <td>False</td>\n",
       "      <td>False</td>\n",
       "      <td>True</td>\n",
       "    </tr>\n",
       "    <tr>\n",
       "      <th>486</th>\n",
       "      <td>False</td>\n",
       "      <td>False</td>\n",
       "      <td>False</td>\n",
       "      <td>False</td>\n",
       "      <td>True</td>\n",
       "    </tr>\n",
       "    <tr>\n",
       "      <th>487</th>\n",
       "      <td>False</td>\n",
       "      <td>False</td>\n",
       "      <td>True</td>\n",
       "      <td>True</td>\n",
       "      <td>True</td>\n",
       "    </tr>\n",
       "  </tbody>\n",
       "</table>\n",
       "<p>488 rows × 5 columns</p>\n",
       "</div>"
      ],
      "text/plain": [
       "     S.No.   Name  Mar Cap - Crore  Sales Qtr - Crore  Unnamed: 4\n",
       "0    False  False            False              False        True\n",
       "1    False  False            False              False        True\n",
       "2    False  False            False              False        True\n",
       "3    False  False            False              False        True\n",
       "4    False  False            False              False        True\n",
       "..     ...    ...              ...                ...         ...\n",
       "483  False  False            False              False        True\n",
       "484  False  False            False              False        True\n",
       "485  False  False            False              False        True\n",
       "486  False  False            False              False        True\n",
       "487  False  False             True               True        True\n",
       "\n",
       "[488 rows x 5 columns]"
      ]
     },
     "execution_count": 9,
     "metadata": {},
     "output_type": "execute_result"
    }
   ],
   "source": [
    "df.isnull()"
   ]
  },
  {
   "cell_type": "code",
   "execution_count": 10,
   "id": "454c444d",
   "metadata": {
    "scrolled": true
   },
   "outputs": [
    {
     "data": {
      "text/plain": [
       "S.No.                  0\n",
       "Name                   0\n",
       "Mar Cap - Crore        9\n",
       "Sales Qtr - Crore    123\n",
       "Unnamed: 4           394\n",
       "dtype: int64"
      ]
     },
     "execution_count": 10,
     "metadata": {},
     "output_type": "execute_result"
    }
   ],
   "source": [
    "df.isnull().sum()"
   ]
  },
  {
   "cell_type": "code",
   "execution_count": 11,
   "id": "4dcde18f",
   "metadata": {},
   "outputs": [],
   "source": [
    "# Droped the unnecessary column from data : - \n",
    "\n",
    "df.drop(['Unnamed: 4'], axis = 1, inplace = True)"
   ]
  },
  {
   "cell_type": "code",
   "execution_count": 12,
   "id": "6c08d6d5",
   "metadata": {},
   "outputs": [
    {
     "data": {
      "text/html": [
       "<div>\n",
       "<style scoped>\n",
       "    .dataframe tbody tr th:only-of-type {\n",
       "        vertical-align: middle;\n",
       "    }\n",
       "\n",
       "    .dataframe tbody tr th {\n",
       "        vertical-align: top;\n",
       "    }\n",
       "\n",
       "    .dataframe thead th {\n",
       "        text-align: right;\n",
       "    }\n",
       "</style>\n",
       "<table border=\"1\" class=\"dataframe\">\n",
       "  <thead>\n",
       "    <tr style=\"text-align: right;\">\n",
       "      <th></th>\n",
       "      <th>S.No.</th>\n",
       "      <th>Name</th>\n",
       "      <th>Mar Cap - Crore</th>\n",
       "      <th>Sales Qtr - Crore</th>\n",
       "    </tr>\n",
       "  </thead>\n",
       "  <tbody>\n",
       "    <tr>\n",
       "      <th>0</th>\n",
       "      <td>1</td>\n",
       "      <td>Reliance Inds.</td>\n",
       "      <td>583436.72</td>\n",
       "      <td>99810.00</td>\n",
       "    </tr>\n",
       "    <tr>\n",
       "      <th>1</th>\n",
       "      <td>2</td>\n",
       "      <td>TCS</td>\n",
       "      <td>563709.84</td>\n",
       "      <td>30904.00</td>\n",
       "    </tr>\n",
       "    <tr>\n",
       "      <th>2</th>\n",
       "      <td>3</td>\n",
       "      <td>HDFC Bank</td>\n",
       "      <td>482953.59</td>\n",
       "      <td>20581.27</td>\n",
       "    </tr>\n",
       "    <tr>\n",
       "      <th>3</th>\n",
       "      <td>4</td>\n",
       "      <td>ITC</td>\n",
       "      <td>320985.27</td>\n",
       "      <td>9772.02</td>\n",
       "    </tr>\n",
       "    <tr>\n",
       "      <th>4</th>\n",
       "      <td>5</td>\n",
       "      <td>H D F C</td>\n",
       "      <td>289497.37</td>\n",
       "      <td>16840.51</td>\n",
       "    </tr>\n",
       "    <tr>\n",
       "      <th>...</th>\n",
       "      <td>...</td>\n",
       "      <td>...</td>\n",
       "      <td>...</td>\n",
       "      <td>...</td>\n",
       "    </tr>\n",
       "    <tr>\n",
       "      <th>483</th>\n",
       "      <td>496</td>\n",
       "      <td>Lak. Vilas Bank</td>\n",
       "      <td>3029.57</td>\n",
       "      <td>790.17</td>\n",
       "    </tr>\n",
       "    <tr>\n",
       "      <th>484</th>\n",
       "      <td>497</td>\n",
       "      <td>NOCIL</td>\n",
       "      <td>3026.26</td>\n",
       "      <td>249.27</td>\n",
       "    </tr>\n",
       "    <tr>\n",
       "      <th>485</th>\n",
       "      <td>498</td>\n",
       "      <td>Orient Cement</td>\n",
       "      <td>3024.32</td>\n",
       "      <td>511.53</td>\n",
       "    </tr>\n",
       "    <tr>\n",
       "      <th>486</th>\n",
       "      <td>499</td>\n",
       "      <td>Natl.Fertilizer</td>\n",
       "      <td>3017.07</td>\n",
       "      <td>2840.75</td>\n",
       "    </tr>\n",
       "    <tr>\n",
       "      <th>487</th>\n",
       "      <td>500</td>\n",
       "      <td>L T Foods</td>\n",
       "      <td>NaN</td>\n",
       "      <td>NaN</td>\n",
       "    </tr>\n",
       "  </tbody>\n",
       "</table>\n",
       "<p>488 rows × 4 columns</p>\n",
       "</div>"
      ],
      "text/plain": [
       "     S.No.             Name  Mar Cap - Crore  Sales Qtr - Crore\n",
       "0        1   Reliance Inds.        583436.72           99810.00\n",
       "1        2              TCS        563709.84           30904.00\n",
       "2        3        HDFC Bank        482953.59           20581.27\n",
       "3        4              ITC        320985.27            9772.02\n",
       "4        5          H D F C        289497.37           16840.51\n",
       "..     ...              ...              ...                ...\n",
       "483    496  Lak. Vilas Bank          3029.57             790.17\n",
       "484    497            NOCIL          3026.26             249.27\n",
       "485    498    Orient Cement          3024.32             511.53\n",
       "486    499  Natl.Fertilizer          3017.07            2840.75\n",
       "487    500        L T Foods              NaN                NaN\n",
       "\n",
       "[488 rows x 4 columns]"
      ]
     },
     "execution_count": 12,
     "metadata": {},
     "output_type": "execute_result"
    }
   ],
   "source": [
    "df"
   ]
  },
  {
   "cell_type": "code",
   "execution_count": 13,
   "id": "72041748",
   "metadata": {},
   "outputs": [
    {
     "data": {
      "text/plain": [
       "S.No.                  0\n",
       "Name                   0\n",
       "Mar Cap - Crore        9\n",
       "Sales Qtr - Crore    123\n",
       "dtype: int64"
      ]
     },
     "execution_count": 13,
     "metadata": {},
     "output_type": "execute_result"
    }
   ],
   "source": [
    "df.isnull().sum()"
   ]
  },
  {
   "cell_type": "code",
   "execution_count": 14,
   "id": "65566557",
   "metadata": {},
   "outputs": [
    {
     "data": {
      "text/plain": [
       "583436.72    1\n",
       "5896.54      1\n",
       "5497.40      1\n",
       "5498.45      1\n",
       "5502.94      1\n",
       "            ..\n",
       "16655.58     1\n",
       "16683.97     1\n",
       "16728.78     1\n",
       "17097.54     1\n",
       "3017.07      1\n",
       "Name: Mar Cap - Crore, Length: 479, dtype: int64"
      ]
     },
     "execution_count": 14,
     "metadata": {},
     "output_type": "execute_result"
    }
   ],
   "source": [
    "df['Mar Cap - Crore'].value_counts()"
   ]
  },
  {
   "cell_type": "code",
   "execution_count": 15,
   "id": "5f9a36b7",
   "metadata": {},
   "outputs": [
    {
     "name": "stdout",
     "output_type": "stream",
     "text": [
      "0      False\n",
      "1      False\n",
      "2      False\n",
      "3      False\n",
      "4      False\n",
      "       ...  \n",
      "483    False\n",
      "484    False\n",
      "485    False\n",
      "486    False\n",
      "487     True\n",
      "Length: 488, dtype: bool\n"
     ]
    }
   ],
   "source": [
    "# Droped the duplicates values from the data\n",
    "\n",
    "print(df.duplicated('Mar Cap - Crore'))"
   ]
  },
  {
   "cell_type": "code",
   "execution_count": 16,
   "id": "53c5e87a",
   "metadata": {},
   "outputs": [],
   "source": [
    "df.drop_duplicates('Mar Cap - Crore', inplace = True)"
   ]
  },
  {
   "cell_type": "code",
   "execution_count": 17,
   "id": "bd38ed8a",
   "metadata": {},
   "outputs": [
    {
     "data": {
      "text/html": [
       "<div>\n",
       "<style scoped>\n",
       "    .dataframe tbody tr th:only-of-type {\n",
       "        vertical-align: middle;\n",
       "    }\n",
       "\n",
       "    .dataframe tbody tr th {\n",
       "        vertical-align: top;\n",
       "    }\n",
       "\n",
       "    .dataframe thead th {\n",
       "        text-align: right;\n",
       "    }\n",
       "</style>\n",
       "<table border=\"1\" class=\"dataframe\">\n",
       "  <thead>\n",
       "    <tr style=\"text-align: right;\">\n",
       "      <th></th>\n",
       "      <th>S.No.</th>\n",
       "      <th>Name</th>\n",
       "      <th>Mar Cap - Crore</th>\n",
       "      <th>Sales Qtr - Crore</th>\n",
       "    </tr>\n",
       "  </thead>\n",
       "  <tbody>\n",
       "    <tr>\n",
       "      <th>0</th>\n",
       "      <td>1</td>\n",
       "      <td>Reliance Inds.</td>\n",
       "      <td>583436.72</td>\n",
       "      <td>99810.00</td>\n",
       "    </tr>\n",
       "    <tr>\n",
       "      <th>1</th>\n",
       "      <td>2</td>\n",
       "      <td>TCS</td>\n",
       "      <td>563709.84</td>\n",
       "      <td>30904.00</td>\n",
       "    </tr>\n",
       "    <tr>\n",
       "      <th>2</th>\n",
       "      <td>3</td>\n",
       "      <td>HDFC Bank</td>\n",
       "      <td>482953.59</td>\n",
       "      <td>20581.27</td>\n",
       "    </tr>\n",
       "    <tr>\n",
       "      <th>3</th>\n",
       "      <td>4</td>\n",
       "      <td>ITC</td>\n",
       "      <td>320985.27</td>\n",
       "      <td>9772.02</td>\n",
       "    </tr>\n",
       "    <tr>\n",
       "      <th>4</th>\n",
       "      <td>5</td>\n",
       "      <td>H D F C</td>\n",
       "      <td>289497.37</td>\n",
       "      <td>16840.51</td>\n",
       "    </tr>\n",
       "    <tr>\n",
       "      <th>...</th>\n",
       "      <td>...</td>\n",
       "      <td>...</td>\n",
       "      <td>...</td>\n",
       "      <td>...</td>\n",
       "    </tr>\n",
       "    <tr>\n",
       "      <th>482</th>\n",
       "      <td>495</td>\n",
       "      <td>Prime Focus</td>\n",
       "      <td>3031.50</td>\n",
       "      <td>609.61</td>\n",
       "    </tr>\n",
       "    <tr>\n",
       "      <th>483</th>\n",
       "      <td>496</td>\n",
       "      <td>Lak. Vilas Bank</td>\n",
       "      <td>3029.57</td>\n",
       "      <td>790.17</td>\n",
       "    </tr>\n",
       "    <tr>\n",
       "      <th>484</th>\n",
       "      <td>497</td>\n",
       "      <td>NOCIL</td>\n",
       "      <td>3026.26</td>\n",
       "      <td>249.27</td>\n",
       "    </tr>\n",
       "    <tr>\n",
       "      <th>485</th>\n",
       "      <td>498</td>\n",
       "      <td>Orient Cement</td>\n",
       "      <td>3024.32</td>\n",
       "      <td>511.53</td>\n",
       "    </tr>\n",
       "    <tr>\n",
       "      <th>486</th>\n",
       "      <td>499</td>\n",
       "      <td>Natl.Fertilizer</td>\n",
       "      <td>3017.07</td>\n",
       "      <td>2840.75</td>\n",
       "    </tr>\n",
       "  </tbody>\n",
       "</table>\n",
       "<p>480 rows × 4 columns</p>\n",
       "</div>"
      ],
      "text/plain": [
       "     S.No.             Name  Mar Cap - Crore  Sales Qtr - Crore\n",
       "0        1   Reliance Inds.        583436.72           99810.00\n",
       "1        2              TCS        563709.84           30904.00\n",
       "2        3        HDFC Bank        482953.59           20581.27\n",
       "3        4              ITC        320985.27            9772.02\n",
       "4        5          H D F C        289497.37           16840.51\n",
       "..     ...              ...              ...                ...\n",
       "482    495      Prime Focus          3031.50             609.61\n",
       "483    496  Lak. Vilas Bank          3029.57             790.17\n",
       "484    497            NOCIL          3026.26             249.27\n",
       "485    498    Orient Cement          3024.32             511.53\n",
       "486    499  Natl.Fertilizer          3017.07            2840.75\n",
       "\n",
       "[480 rows x 4 columns]"
      ]
     },
     "execution_count": 17,
     "metadata": {},
     "output_type": "execute_result"
    }
   ],
   "source": [
    "df"
   ]
  },
  {
   "cell_type": "code",
   "execution_count": 18,
   "id": "53f13be4",
   "metadata": {},
   "outputs": [
    {
     "data": {
      "text/plain": [
       "S.No.                  0\n",
       "Name                   0\n",
       "Mar Cap - Crore        1\n",
       "Sales Qtr - Crore    115\n",
       "dtype: int64"
      ]
     },
     "execution_count": 18,
     "metadata": {},
     "output_type": "execute_result"
    }
   ],
   "source": [
    "df.isnull().sum()"
   ]
  },
  {
   "cell_type": "code",
   "execution_count": 19,
   "id": "f012df8c",
   "metadata": {},
   "outputs": [],
   "source": [
    "df['Mar Cap - Crore'].fillna(df['Mar Cap - Crore'].mean(), inplace = True)"
   ]
  },
  {
   "cell_type": "code",
   "execution_count": 20,
   "id": "aa261a4b",
   "metadata": {},
   "outputs": [
    {
     "data": {
      "text/plain": [
       "S.No.                  0\n",
       "Name                   0\n",
       "Mar Cap - Crore        0\n",
       "Sales Qtr - Crore    115\n",
       "dtype: int64"
      ]
     },
     "execution_count": 20,
     "metadata": {},
     "output_type": "execute_result"
    }
   ],
   "source": [
    "df.isnull().sum()"
   ]
  },
  {
   "cell_type": "code",
   "execution_count": 21,
   "id": "d2983420",
   "metadata": {},
   "outputs": [
    {
     "name": "stdout",
     "output_type": "stream",
     "text": [
      "     S.No.             Name  Mar Cap - Crore  Sales Qtr - Crore\n",
      "0        1   Reliance Inds.        583436.72           99810.00\n",
      "1        2              TCS        563709.84           30904.00\n",
      "2        3        HDFC Bank        482953.59           20581.27\n",
      "3        4              ITC        320985.27            9772.02\n",
      "4        5          H D F C        289497.37           16840.51\n",
      "..     ...              ...              ...                ...\n",
      "482    495      Prime Focus          3031.50             609.61\n",
      "483    496  Lak. Vilas Bank          3029.57             790.17\n",
      "484    497            NOCIL          3026.26             249.27\n",
      "485    498    Orient Cement          3024.32             511.53\n",
      "486    499  Natl.Fertilizer          3017.07            2840.75\n",
      "\n",
      "[480 rows x 4 columns]\n"
     ]
    },
    {
     "data": {
      "text/plain": [
       "365"
      ]
     },
     "execution_count": 21,
     "metadata": {},
     "output_type": "execute_result"
    }
   ],
   "source": [
    "df['Sales Qtr - Crore'].value_counts()\n",
    "print(df)\n",
    "df['Sales Qtr - Crore'].nunique()"
   ]
  },
  {
   "cell_type": "code",
   "execution_count": 22,
   "id": "cb8ed88c",
   "metadata": {},
   "outputs": [],
   "source": [
    "for column in df.columns:\n",
    "    if df[column].dtype != 'object':\n",
    "        mean = df[column].mean()\n",
    "        df[column] = df[column].fillna(mean)"
   ]
  },
  {
   "cell_type": "code",
   "execution_count": 23,
   "id": "8bd428b5",
   "metadata": {},
   "outputs": [
    {
     "data": {
      "text/plain": [
       "S.No.                0\n",
       "Name                 0\n",
       "Mar Cap - Crore      0\n",
       "Sales Qtr - Crore    0\n",
       "dtype: int64"
      ]
     },
     "execution_count": 23,
     "metadata": {},
     "output_type": "execute_result"
    }
   ],
   "source": [
    "df.isnull().sum()"
   ]
  },
  {
   "cell_type": "markdown",
   "id": "78cac5d2",
   "metadata": {},
   "source": [
    "## Exploratory Data Analysis (EDA) "
   ]
  },
  {
   "cell_type": "code",
   "execution_count": 24,
   "id": "5e09a6d5",
   "metadata": {},
   "outputs": [
    {
     "data": {
      "text/plain": [
       "Index(['S.No.', 'Name', 'Mar Cap - Crore', 'Sales Qtr - Crore'], dtype='object')"
      ]
     },
     "execution_count": 24,
     "metadata": {},
     "output_type": "execute_result"
    }
   ],
   "source": [
    "df.columns"
   ]
  },
  {
   "cell_type": "code",
   "execution_count": 25,
   "id": "baeebee2",
   "metadata": {},
   "outputs": [
    {
     "name": "stdout",
     "output_type": "stream",
     "text": [
      "<class 'pandas.core.frame.DataFrame'>\n",
      "Int64Index: 480 entries, 0 to 486\n",
      "Data columns (total 4 columns):\n",
      " #   Column             Non-Null Count  Dtype  \n",
      "---  ------             --------------  -----  \n",
      " 0   S.No.              480 non-null    int64  \n",
      " 1   Name               480 non-null    object \n",
      " 2   Mar Cap - Crore    480 non-null    float64\n",
      " 3   Sales Qtr - Crore  480 non-null    float64\n",
      "dtypes: float64(2), int64(1), object(1)\n",
      "memory usage: 18.8+ KB\n"
     ]
    }
   ],
   "source": [
    "df.info()"
   ]
  },
  {
   "cell_type": "markdown",
   "id": "dbc2c6b9",
   "metadata": {},
   "source": [
    "## Used by Histogram graph for Market Capitalization\n",
    "\n",
    "\n",
    "### 1. Distribution of Market Capitalization"
   ]
  },
  {
   "cell_type": "code",
   "execution_count": 26,
   "id": "04f33f4c",
   "metadata": {},
   "outputs": [
    {
     "data": {
      "image/png": "[encoded data removed]",
      "text/plain": [
       "<Figure size 1000x600 with 1 Axes>"
      ]
     },
     "metadata": {},
     "output_type": "display_data"
    }
   ],
   "source": [
    "plt.figure(figsize=(10, 6))\n",
    "plt.hist(df['Mar Cap - Crore'], bins=25, color='blue', edgecolor='black')\n",
    "plt.xlabel('Market Capitalization (Crore)')\n",
    "plt.ylabel('Frequency')\n",
    "plt.title('Distribution of Market Capitalization')\n",
    "plt.show()"
   ]
  },
  {
   "cell_type": "markdown",
   "id": "e2f2b00f",
   "metadata": {},
   "source": [
    "## Used by Histogram Graph for Quarterly Sales\n",
    "\n",
    "### 2. Distribution of Quarterly Sales"
   ]
  },
  {
   "cell_type": "code",
   "execution_count": 27,
   "id": "08bc70c1",
   "metadata": {},
   "outputs": [
    {
     "data": {
      "image/png": "[encoded data removed]",
      "text/plain": [
       "<Figure size 1000x600 with 1 Axes>"
      ]
     },
     "metadata": {},
     "output_type": "display_data"
    }
   ],
   "source": [
    "plt.figure(figsize=(10, 6))\n",
    "plt.hist(df['Sales Qtr - Crore'], bins=30, color='salmon', edgecolor='black')\n",
    "plt.xlabel('Quarterly Sales (Crore)')\n",
    "plt.ylabel('Frequency')\n",
    "plt.title('Distribution of Quarterly Sales')\n",
    "plt.show()"
   ]
  },
  {
   "cell_type": "markdown",
   "id": "1e3f06a9",
   "metadata": {},
   "source": [
    "## Used by Scatter plot for Market Cap vs. Quarterly Sales\n",
    "\n",
    "\n",
    "### 3. Market Capitalization vs. Quarterly Sales"
   ]
  },
  {
   "cell_type": "code",
   "execution_count": 28,
   "id": "92c7f75f",
   "metadata": {},
   "outputs": [
    {
     "data": {
      "image/png": "[encoded data removed]",
      "text/plain": [
       "<Figure size 1000x600 with 1 Axes>"
      ]
     },
     "metadata": {},
     "output_type": "display_data"
    }
   ],
   "source": [
    "plt.figure(figsize=(10, 6))\n",
    "plt.scatter(df['Mar Cap - Crore'], df['Sales Qtr - Crore'], color='purple')\n",
    "plt.xlabel('Market Capitalization (Crore)')\n",
    "plt.ylabel('Quarterly Sales (Crore)')\n",
    "plt.title('Market Cap vs. Quarterly Sales')\n",
    "plt.show()"
   ]
  },
  {
   "cell_type": "markdown",
   "id": "2281a949",
   "metadata": {},
   "source": [
    "## Used by Bar plot for Top 10 Companies by Market Capitalization\n",
    "\n",
    "\n",
    "### 4. Top 10 Companies by Market Capitalization"
   ]
  },
  {
   "cell_type": "code",
   "execution_count": 29,
   "id": "3bb38d60",
   "metadata": {},
   "outputs": [
    {
     "data": {
      "image/png": "[encoded data removed]",
      "text/plain": [
       "<Figure size 1200x800 with 1 Axes>"
      ]
     },
     "metadata": {},
     "output_type": "display_data"
    }
   ],
   "source": [
    "top_10_mar_cap = df.nlargest(10, 'Mar Cap - Crore')\n",
    "\n",
    "plt.figure(figsize=(12, 8))\n",
    "plt.bar(top_10_mar_cap['Name'], top_10_mar_cap['Mar Cap - Crore'], color='teal')\n",
    "plt.xlabel('Company Name')\n",
    "plt.ylabel('Market Capitalization (Crore)')\n",
    "plt.title('Top 10 Companies by Market Capitalization')\n",
    "plt.xticks(rotation=45)\n",
    "plt.show()"
   ]
  },
  {
   "cell_type": "markdown",
   "id": "dbb8ddfc",
   "metadata": {},
   "source": [
    "## Used by Bar plot for Top 10 Companies by Quarterly Sales\n",
    "\n",
    "\n",
    "### 5. Top 10 Companies by Quarterly Sales"
   ]
  },
  {
   "cell_type": "code",
   "execution_count": 30,
   "id": "e26fbe6a",
   "metadata": {},
   "outputs": [
    {
     "data": {
      "image/png": "[encoded data removed]",
      "text/plain": [
       "<Figure size 1200x800 with 1 Axes>"
      ]
     },
     "metadata": {},
     "output_type": "display_data"
    }
   ],
   "source": [
    "top_10_sales = df.nlargest(10, 'Sales Qtr - Crore')\n",
    "\n",
    "plt.figure(figsize=(12, 8))\n",
    "plt.bar(top_10_sales['Name'], top_10_sales['Sales Qtr - Crore'], color='orange')\n",
    "plt.xlabel('Company Name')\n",
    "plt.ylabel('Quarterly Sales (Crore)')\n",
    "plt.title('Top 10 Companies by Quarterly Sales')\n",
    "plt.xticks(rotation=45)\n",
    "plt.show()"
   ]
  },
  {
   "cell_type": "markdown",
   "id": "2acb4227",
   "metadata": {},
   "source": [
    "## Top 5 companies by market capitalization\n",
    "\n",
    "### 6. Key Metrics and Findings"
   ]
  },
  {
   "cell_type": "code",
   "execution_count": 31,
   "id": "13ec4a4d",
   "metadata": {},
   "outputs": [
    {
     "name": "stdout",
     "output_type": "stream",
     "text": [
      "Top 5 Companies by Market Capitalization:\n",
      "             Name  Mar Cap - Crore\n",
      "0  Reliance Inds.        583436.72\n",
      "1             TCS        563709.84\n",
      "2       HDFC Bank        482953.59\n",
      "3             ITC        320985.27\n",
      "4         H D F C        289497.37\n"
     ]
    }
   ],
   "source": [
    "top_5_mar_cap = df.nlargest(5, 'Mar Cap - Crore')\n",
    "print(\"Top 5 Companies by Market Capitalization:\")\n",
    "print(top_5_mar_cap[['Name', 'Mar Cap - Crore']])"
   ]
  },
  {
   "cell_type": "markdown",
   "id": "546281b0",
   "metadata": {},
   "source": [
    "## Top 5 companies by quarterly sales\n",
    "\n",
    "### 6.1 Key Metrics and Findings"
   ]
  },
  {
   "cell_type": "code",
   "execution_count": 32,
   "id": "0a47a5ab",
   "metadata": {},
   "outputs": [
    {
     "name": "stdout",
     "output_type": "stream",
     "text": [
      "Top 5 Companies by Quarterly Sales:\n",
      "              Name  Sales Qtr - Crore\n",
      "14         I O C L          110666.93\n",
      "0   Reliance Inds.           99810.00\n",
      "23     Tata Motors           74156.07\n",
      "27         B P C L           60616.36\n",
      "54         H P C L           57474.25\n"
     ]
    }
   ],
   "source": [
    "top_5_sales = df.nlargest(5, 'Sales Qtr - Crore')\n",
    "print(\"Top 5 Companies by Quarterly Sales:\")\n",
    "print(top_5_sales[['Name', 'Sales Qtr - Crore']])"
   ]
  },
  {
   "cell_type": "markdown",
   "id": "526c8c70",
   "metadata": {},
   "source": [
    "## Summary statistics for numerical columns\n",
    "\n",
    "### 7. Market Capitalization and Quarterly Sales Summary Statistics"
   ]
  },
  {
   "cell_type": "code",
   "execution_count": 33,
   "id": "12193dbc",
   "metadata": {},
   "outputs": [
    {
     "name": "stdout",
     "output_type": "stream",
     "text": [
      "       Mar Cap - Crore  Sales Qtr - Crore\n",
      "count       480.000000         480.000000\n",
      "mean      28043.857119        4395.976849\n",
      "std       59402.511777        9669.429892\n",
      "min        3017.070000          47.240000\n",
      "25%        4850.142500         722.410000\n",
      "50%        9979.705000        2069.420000\n",
      "75%       23601.592500        4395.976849\n",
      "max      583436.720000      110666.930000\n"
     ]
    }
   ],
   "source": [
    "summary_stats = df[['Mar Cap - Crore', 'Sales Qtr - Crore']].describe()\n",
    "print(summary_stats)"
   ]
  },
  {
   "cell_type": "markdown",
   "id": "d3dd7702",
   "metadata": {},
   "source": [
    "## Summary of Findings :-\n",
    "\n",
    "### a) Distribution Insights:-\n",
    "\n",
    "#### Market capitalization and quarterly sales follow a certain distribution, with a few companies having very high values compared to others.\n",
    "\n",
    "### b) Relationship Between Attributes:-\n",
    "\n",
    "#### The scatter plot and correlation heatmap help in understanding the relationship between market capitalization and quarterly sales.\n",
    "\n",
    "### c) Top Companies:-\n",
    "\n",
    "#### Identifying the top companies by market capitalization and quarterly sales provides insights into the market leaders."
   ]
  },
  {
   "cell_type": "markdown",
   "id": "50dd892b",
   "metadata": {},
   "source": [
    "## Conclusion\n",
    "#### These analyses and visualizations provide a comprehensive understanding of the market landscape \n",
    "#### for the top 500 companies in India. \n",
    "#### The management can use these insights to better understand the competition and make informed decisions."
   ]
  }
 ],
 "metadata": {
  "kernelspec": {
   "display_name": "Python 3 (ipykernel)",
   "language": "python",
   "name": "python3"
  },
  "language_info": {
   "codemirror_mode": {
    "name": "ipython",
    "version": 3
   },
   "file_extension": ".py",
   "mimetype": "text/x-python",
   "name": "python",
   "nbconvert_exporter": "python",
   "pygments_lexer": "ipython3",
   "version": "3.9.13"
  }
 },
 "nbformat": 4,
 "nbformat_minor": 5
}
